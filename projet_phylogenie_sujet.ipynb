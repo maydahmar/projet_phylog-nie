{
 "cells": [
  {
   "cell_type": "markdown",
   "metadata": {},
   "source": [
    "# Projet phylogénétique\n",
    "Marine Djaffardjy (marine.djaffardjy@u-psud.fr)- Théophile Sanchez - Sarah Cohen Boulakia\n",
    "\n",
    "------\n",
    "\n",
    "## Introduction\n",
    "\n",
    "Au cours de ce projet, vous étudierez trois espèces disparues de félins qui vivaient autrefois sur le continent Américain. Ces trois espèces, le _smilodon_ (tigre à dents de sabre), l'_homotherium_ (_scimitar toothed tigers_) et _M. trumani_ (guépard américain) se sont éteintes il y a environ 13 000 ans, à la fin de la dernière période glaciaire. Des séquences ADN partielles de la protéine cytochrome b de ces espèces ont pu être séquencées et vont vous permettre de retrouver les liens de parentés entre ces espèces et des espèces de félins contemporaines : le chat domestique, le lion, le léopard, le tigre, le puma, le guépard et les chats sauvages africains, chinois et européens. Sont aussi présentes dans le jeu de donnée des séquences issues d'espèces extérieures aux félins.\n",
    "\n",
    "Afin de reconstruire l'arbre phylogénétique de ces espèces, vous utiliserez une méthode basée sur le calcul des distances évolutives entre les séquences ADN des protéines. Sachez qu'une démarche similaire peut-être appliquée aux séquences d'acides aminés.\n",
    "\n",
    "Les différentes étapes qui vous permetterons de construire l'arbre sont détaillées dans ce notebook. Vous devrez implémenter les algorithmes en Python et répondre aux questions dans les cellules prévues.\n",
    "\n",
    "Quelques conseils :\n",
    "- Utiliser au maximum les fonctions présentes dans les packages de python (sauf si il vous est explicitement demandé de les réimplémenter). Si un problème vous paraît courant, il existe surement déjà une fonction pour le résoudre. Pour ce projet vous serez limités aux packages de base, à Numpy et ETE (seulement pour l'affichage des arbres). Vous n'avez pas besoin d'utiliser d'autre packages (pas de pandas).\n",
    "- Si une partie de votre code ne vous semble pas très explicite, ajoutez des commentaires pour l'expliquer. Une personne qui lit votre code doit pouvoir comprendre son fonctionnement facilement.\n",
    "- Faites des fonctions d'affichage pour vos matrices !!\n",
    "- N'hésitez pas à chercher dans la documentation et sur internet. Cependant, faites attention au plagiat !\n",
    "\n",
    "Le projet est à rendre **en binôme** par mail. Vous regrouperez votre notebook et les fichiers nécessaires à son fonctionnement dans une archive portant vos noms et prénoms (il faut que je puisse faire tourner les notebooks)."
   ]
  },
  {
   "cell_type": "markdown",
   "metadata": {},
   "source": [
    "------\n",
    "## Importation des séquences\n",
    "\n",
    "Le format [FASTA](https://fr.wikipedia.org/wiki/FASTA_(format_de_fichier) permet de stocker plusieurs séquences (ADN, ARN ou peptidiques) dans un fichier. Les séquences que vous allez étudier ont été regroupées dans le fichier `cat_dna.fasta`.\n",
    "\n",
    "**Exercice 1 :** Écrivez une fonction permettant d'importer un fichier au format fasta et de le stocker dans un dictionnaire `seq_cat`. Les clés seront les noms des séquences et les valeurs du dictionnaire seront les séquences d'adn.\n",
    "Exportez le dictionnaire obtenu dans un fichier `output/dict_seq.json`."
   ]
  },
  {
   "cell_type": "code",
   "execution_count": 112,
   "metadata": {},
   "outputs": [],
   "source": [
    "# À remplir\n",
    "import json\n",
    "\n",
    "def lire(path):\n",
    "    seq_cat = {}\n",
    "    fichier = open(path, \"r\")\n",
    "    lignes = fichier.readlines()\n",
    "    for ligne in lignes :\n",
    "        if ligne.startswith(\">\"):\n",
    "            id = ligne[1:].split()[0]\n",
    "            seq_cat[id] = ''\n",
    "        else :\n",
    "            seq_cat[id] += ligne.strip()\n",
    "    with open('output/dict_seq.json', 'w') as mon_fichier:\n",
    "\t    json.dump(seq_cat, mon_fichier)\n",
    "\n",
    "lire(\"input/cat_dna.fasta\")\n"
   ]
  },
  {
   "cell_type": "markdown",
   "metadata": {},
   "source": [
    "------\n",
    "## Alignement des séquences\n",
    "\n",
    "La méthode que vous utiliserez pour calculer l'arbre phylogénétique nécessite de calculer la distance évolutive entre les séquences. Avant de pouvoir les calculer, il faut d'abord aligner les séquences en considérant trois types de mutations :\n",
    "- les substitutions (un nucléotide est remplacé par un autre)\n",
    "- les insertions\n",
    "- les délétions\n",
    "Par exemple, les séquences \"ACTCCTGA\" et \"ATCTCGTGA\" ont plusieurs alignements possibles : \n",
    "\n",
    "$A_1$ :\n",
    "```\n",
    "-ACTCCTGA\n",
    "ATCTCGTGA\n",
    "```\n",
    "\n",
    "$A_2$ :\n",
    "```\n",
    "A-CTCCTGA\n",
    "ATCTCGTGA\n",
    "```\n",
    "\n",
    "$A_3$ :\n",
    "```\n",
    "AC-TCCTGA\n",
    "ATCTCGTGA\n",
    "```\n",
    ".\n",
    "\n",
    ".\n",
    "\n",
    ".\n",
    "\n",
    "Le \"-\" désigne un *gap*, c'est à dire un \"trou\" dans l'alignement qui a été causé par une insertion ou une déletion. On regroupe ces deux types de mutations sous le terme indel.\n",
    "\n",
    "Ces alignements correspondent à une multitude d'histoires phylogénétiques différentes. Pour sélectionner le meilleur alignement il faut donc introduire l'hypothèse du maximum de parcimonie qui privilégie l'histoire phylogénétique qui implique le moins d'hypothèses et donc, le moins de changements évolutifs. Par exemple, parmis les trois alignements ci-dessus on preferera l'alignement 2 car il correspond au scénario avec le moins de mutations:\n",
    "- l'alignement 1 implique au minimum 1 indel et 2 substitutions\n",
    "- l'alignement 2 implique au minimum 1 indel et 1 substitutions\n",
    "- l'alignement 3 implique au minimum 1 indel et 2 substitutions\n",
    "\n",
    "On peut maintenant définir un score d'identité que l'on va augmenter de 1 lorsque qu'il n'y pas eu de mutation et ainsi obtenir la matrice suivante :\n",
    "\n",
    "|   &nbsp;   | A | C | G | T | - |\n",
    "|   -   | - | - | - | - | - |\n",
    "| **A** | 1 | 0 | 0 | 0 | 0 |\n",
    "| **C** | 0 | 1 | 0 | 0 | 0 |\n",
    "| **G** | 0 | 0 | 1 | 0 | 0 |\n",
    "| **T** | 0 | 0 | 0 | 1 | 0 |\n",
    "| **-** | 0 | 0 | 0 | 0 | 0 |\n",
    "\n",
    "Cette matrice correspond au modèle d'évolution de l'ADN défini par Jukes et Cantor qui fait l'hypothèse d'un taux de mutation équivalent pour chacun des nucléotides. Cependant, en réalité ces taux ne sont pas les mêmes partout, on sait par exemple que le taux de transition (substitution A$\\leftrightarrow$G ou C$\\leftrightarrow$T) est différent du taux de transversions (substitution A$\\leftrightarrow$T, C$\\leftrightarrow$G, C$\\leftrightarrow$A ou G$\\leftrightarrow$T) et que d'autres facteurs devrait être pris en compte comme la fréquence du nucléotide dans l'ADN. [C'est pour cette raison qu'il existe beaucoup de modèles différents d'écrivant l'évolution de l'ADN.](https://en.wikipedia.org/wiki/Models_of_DNA_evolution) Dans la suite de ce projet nous utiliserons la matrice de similarité $S$ suivante : \n",
    "\n",
    "|   &nbsp;   | A  | C  | G  | T  | -  |\n",
    "|   -   | -  | -  | -  | -  | -  |\n",
    "| **A** | 10 | -1 | -3 | -4 | -5 |\n",
    "| **C** | -1 | 7  | -5 | -3 | -5 |\n",
    "| **G** | -3 | -5 | 9  | 0  | -5 |\n",
    "| **T** | -4 | -3 | 0  | 8  | -5 |\n",
    "| **-** | -5 | -5 | -5 | -5 | 0  |\n",
    "\n",
    "**Exercice 2 :** Écriver la fonction permettant de calculer le score entre deux alignements avec la matrice de similarité précédente puis afficher le score des trois alignements $A_1$, $A_2$ et $A_3$. La classe permettant d'importer une matrice et de calculer le score entre deux lettres vous est déjà fournie, la matrice de similarité est stockée dans le fichier `dna_matrix` :\n"
   ]
  },
  {
   "cell_type": "code",
   "execution_count": 2,
   "metadata": {},
   "outputs": [
    {
     "name": "stdout",
     "output_type": "stream",
     "text": [
      "Score between G and C: -5.0\n",
      "Score between A and a gap: -5.0\n"
     ]
    }
   ],
   "source": [
    "import numpy as np\n",
    "\n",
    "\n",
    "class SimilarityMatrix:\n",
    "    def __init__(self, filename):\n",
    "        with open(filename) as f:\n",
    "            self.letters = f.readline().split()\n",
    "            self.values = np.loadtxt(filename, skiprows=1, usecols=range(1, len(self.letters) + 1))\n",
    "        \n",
    "    def score(self, letter1, letter2): # return the similarity score between letter1 and letter2\n",
    "        return self.values[self.letters.index(letter1)][self.letters.index(letter2)]\n",
    "    \n",
    "# Example\n",
    "similarity_matrix = SimilarityMatrix('input/dna_matrix.txt')\n",
    "print('Score between G and C:', similarity_matrix.score('G', 'C'))\n",
    "print('Score between A and a gap:', similarity_matrix.score('-', 'A'))"
   ]
  },
  {
   "cell_type": "code",
   "execution_count": 3,
   "metadata": {},
   "outputs": [
    {
     "name": "stdout",
     "output_type": "stream",
     "text": [
      "Le score de l'alignement A1 est de 35.0\n",
      "Le score de l'alignement A2 est de 49.0\n",
      "Le score de l'alignement A3 est de 39.0\n"
     ]
    }
   ],
   "source": [
    "def score2(seq1, seq2) : \n",
    "    score = 0\n",
    "    for i in range(len(seq2)):\n",
    "        score +=  similarity_matrix.score(seq1[i],seq2[i])\n",
    "    return score\n",
    "\n",
    "\n",
    "A = ['-ACTCCTGA', 'A-CTCCTGA', 'AC-TCCTGA']\n",
    "B = 'ATCTCGTGA'\n",
    "for i in range(3):\n",
    "    print(f'Le score de l\\'alignement A{i+1} est de {score2(A[i], B)}')\n",
    "        "
   ]
  },
  {
   "cell_type": "markdown",
   "metadata": {},
   "source": [
    "------\n",
    "### Algorithme de Needleman-Wunsch\n",
    "\n",
    "Maintenant que vous avez vu ce qu'est une matrice de similarité et comment calculer le score de similarité d'un alignement, vous allez devoir implémenter un algorithme permettant de trouver le meilleur alignement global entre deux séquences. Avec deux séquences à aligner de taille $n$ et $m$, la première étape consiste à initialiser deux matrices de taille $(n+1) \\times (m+1)$. La première est la matrice de score $M$ et la seconde sera la matrice de *traceback* $T$. \n",
    "\n",
    "Par exemple, avec la matrice $S$ et les séquences $A =$ \"ACTCCTGA\" et $B =$ \"ATCTCGTGA\", on initialise $M$ comme si l'on ajoutait des *gaps* partout :\n",
    "\n",
    "|   &nbsp;   | - | A | T | C | T | C | G | T | G | A |\n",
    "|   -   | - | - | - | - | - | - | - | - | - | - |\n",
    "| **-** | 0 |-5 |-10|-15|-20|-25|-30|-35|-40|-45|\n",
    "| **A** |-5 | &nbsp; | &nbsp; | &nbsp; | &nbsp; | &nbsp; | &nbsp; | &nbsp; | &nbsp; | &nbsp; |\n",
    "| **C** |-10| &nbsp; | &nbsp; | &nbsp; | &nbsp; | &nbsp; | &nbsp; | &nbsp; | &nbsp; | &nbsp; |\n",
    "| **T** |-15| &nbsp; | &nbsp; | &nbsp; | &nbsp; | &nbsp; | &nbsp; | &nbsp; | &nbsp; | &nbsp; |\n",
    "| **C** |-20| &nbsp; | &nbsp; | &nbsp; | &nbsp; | &nbsp; | &nbsp; | &nbsp; | &nbsp; | &nbsp; |\n",
    "| **C** |-25| &nbsp; | &nbsp; | &nbsp; | &nbsp; | &nbsp; | &nbsp; | &nbsp; | &nbsp; | &nbsp; |\n",
    "| **T** |-30| &nbsp; | &nbsp; | &nbsp; | &nbsp; | &nbsp; | &nbsp; | &nbsp; | &nbsp; | &nbsp; |\n",
    "| **G** |-45| &nbsp; | &nbsp; | &nbsp; | &nbsp; | &nbsp; | &nbsp; | &nbsp; | &nbsp; | &nbsp; |\n",
    "| **A** |-40| &nbsp; | &nbsp; | &nbsp; | &nbsp; | &nbsp; | &nbsp; | &nbsp; | &nbsp; | &nbsp; ||\n",
    "\n",
    "Puis on initialise $T$ :\n",
    "\n",
    "|   &nbsp;   | - | A | T | C | T | C | G | T | G | A |\n",
    "|   -   | - | - | - | - | - | - | - | - | - | - |\n",
    "| **-** | o | l | l | l | l | l | l | l | l | l |\n",
    "| **A** | u | &nbsp; | &nbsp; | &nbsp; | &nbsp; | &nbsp; | &nbsp; | &nbsp; | &nbsp; | &nbsp; |\n",
    "| **C** | u | &nbsp; | &nbsp; | &nbsp; | &nbsp; | &nbsp; | &nbsp; | &nbsp; | &nbsp; | &nbsp; |\n",
    "| **T** | u | &nbsp; | &nbsp; | &nbsp; | &nbsp; | &nbsp; | &nbsp; | &nbsp; | &nbsp; | &nbsp; |\n",
    "| **C** | u | &nbsp; | &nbsp; | &nbsp; | &nbsp; | &nbsp; | &nbsp; | &nbsp; | &nbsp; | &nbsp; |\n",
    "| **C** | u | &nbsp; | &nbsp; | &nbsp; | &nbsp; | &nbsp; | &nbsp; | &nbsp; | &nbsp; | &nbsp; |\n",
    "| **T** | u | &nbsp; | &nbsp; | &nbsp; | &nbsp; | &nbsp; | &nbsp; | &nbsp; | &nbsp; | &nbsp; |\n",
    "| **G** | u | &nbsp; | &nbsp; | &nbsp; | &nbsp; | &nbsp; | &nbsp; | &nbsp; | &nbsp; | &nbsp; |\n",
    "| **A** | u | &nbsp; | &nbsp; | &nbsp; | &nbsp; | &nbsp; | &nbsp; | &nbsp; | &nbsp; | &nbsp; ||\n",
    "\n",
    "\n",
    "Il faut ensuite remplir la matrice $M$ en suivant la formule $M_{ij} = \\max(M_{i-1j-1} + s(A_i, B_j), M_{ij-1} + s(A_i, gap), M_{i-1j} + s(B_j,gap) )$ avec $i \\in {2, \\dots, n+1}$, $j \\in {2, \\dots, m+1}$ et la fonction $s$ qui calcule le score de similarité entre deux nucléotides. Pour chaque case de $T$ on remplie par :\n",
    "- 'd' (*diagonal*) si $M_{ij}$ a été calculé en utilisant la diagonale $M_{i-1j-1}$,\n",
    "- 'l' (*left*) si $M_{ij}$ a été calculé en utilisant la case de gauche $M_{ij-1}$,\n",
    "- 'u' (*up*) si $M_{ij}$ a été calculé en utilisant la case du haut $M_{i-1j}$.\n",
    "\n",
    "On obtient alors les matrices suivantes $M$ et $T$ : \n",
    "\n",
    "|   &nbsp;   | - | A | T | C | T | C | G | T | G | A |\n",
    "|   -   | - | - | - | - | - | - | - | - | - | - |\n",
    "| **-** |  0| -5|-10|-15|-20|-25|-30|-35|-40|-45|\n",
    "| **A** | -5| 10|  5|  0| -5|-10|-15|-20|-25|-30|\n",
    "| **C** |-10|  5|  7| 12|  7|  2| -3| -8|-13|-18|\n",
    "| **T** |-15|  0| 13|  8| 20| 15| 10|  5|  0| -5|\n",
    "| **C** |-20| -5|  8| 20| 15| 27| 22| 17| 12|  7|\n",
    "| **C** |-25|-10|  3| 15| 17| 22| 22| 19| 14| 11|\n",
    "| **T** |-30|-15| -2| 10| 23| 18| 22| 30| 25| 20|\n",
    "| **G** |-35|-20| -7|  5| 18| 18| 27| 25| 39| 34|\n",
    "| **A** |-40|-25|-12|  0| 13| 17| 22| 23| 34| 49|\n",
    "\n",
    "|   &nbsp;   | - | A | T | C | T | C | G | T | G | A |\n",
    "|   -   | - | - | - | - | - | - | - | - | - | - |\n",
    "| **-** | o | l | l | l | l | l | l | l | l | l |\n",
    "| **A** | u | d | l | l | l | l | l | l | l | d |\n",
    "| **C** | u | u | d | d | l | d | l | l | l | l |\n",
    "| **T** | u | u | d | l | d | l | l | d | l | l |\n",
    "| **C** | u | u | u | d | l | d | l | l | l | l |\n",
    "| **C** | u | u | u | d | d | d | d | d | l | d |\n",
    "| **T** | u | u | d | u | d | l | d | d | l | l |\n",
    "| **G** | u | u | u | u | u | d | d | u | d | l |\n",
    "| **A** | u | d | u | u | u | d | u | d | u | d |\n",
    "\n",
    "Il suffit maintenant de regarder le dernier élément $M_{nm} = 49$ pour avoir le score de l'alignement. Pour avoir l'alignement lui-même, il faut partir de $T_{nm}$ et remonter la \"trace\" jusqu'à arriver au 'o'. Un 'd' correspond à un *match* entre les deux séquences, 'l' à un *gap* dans la séquence $A$ et 'u' à un *gap* dans la séquence $B$. En revenant à l'exemple précédent on obtient la trace suivante :\n",
    "\n",
    "|   &nbsp;   | - | A | T | C | T | C | G | T | G | A |\n",
    "|   -   | - | - | - | - | - | - | - | - | - | - |\n",
    "| **-** | o | &nbsp; | &nbsp; | &nbsp; | &nbsp; | &nbsp; | &nbsp; | &nbsp; | &nbsp; | &nbsp; |\n",
    "| **A** | &nbsp; | d | l | &nbsp; | &nbsp; | &nbsp; | &nbsp; | &nbsp; | &nbsp; | &nbsp; |\n",
    "| **C** | &nbsp; | &nbsp; | &nbsp; | d | &nbsp; | &nbsp; | &nbsp; | &nbsp; | &nbsp; | &nbsp; |\n",
    "| **T** | &nbsp; | &nbsp; | &nbsp; | &nbsp; | d | &nbsp; | &nbsp; | &nbsp; | &nbsp; | &nbsp; |\n",
    "| **C** | &nbsp; | &nbsp; | &nbsp; | &nbsp; | &nbsp; | d | &nbsp; | &nbsp; | &nbsp; | &nbsp; |\n",
    "| **C** | &nbsp; | &nbsp; | &nbsp; | &nbsp; | &nbsp; | &nbsp; | d | &nbsp; | &nbsp; | &nbsp; |\n",
    "| **T** | &nbsp; | &nbsp; | &nbsp; | &nbsp; | &nbsp; | &nbsp; | &nbsp; | d | &nbsp; | &nbsp; |\n",
    "| **G** | &nbsp; | &nbsp; | &nbsp; | &nbsp; | &nbsp; | &nbsp; | &nbsp; | &nbsp; | d | &nbsp; |\n",
    "| **A** | &nbsp; | &nbsp; | &nbsp; | &nbsp; | &nbsp; | &nbsp; | &nbsp; | &nbsp; | &nbsp; | d |\n",
    "\n",
    "Elle correspond à l'alignement :\n",
    "```\n",
    "A-CTCCTGA\n",
    "ATCTCGTGA\n",
    "```\n",
    "\n",
    "**Exercice 3 :** Implémenter l'algorithme de Needlman et Wunsch. Il prendra en paramètre deux séquences et une matrice de similarité et retournera leur alignement. Tester le avec les séquences \"ACTCCTGA\" et \"ATCTCGTGA\"."
   ]
  },
  {
   "cell_type": "code",
   "execution_count": 4,
   "metadata": {},
   "outputs": [
    {
     "data": {
      "text/plain": [
       "('A-CTCCTGA', 'ATCTCGTGA')"
      ]
     },
     "execution_count": 4,
     "metadata": {},
     "output_type": "execute_result"
    }
   ],
   "source": [
    "# À remplir\n",
    "similarity_matrix = SimilarityMatrix('input/dna_matrix.txt')\n",
    "\n",
    "def needWunch(A, B, similarity_matrix):\n",
    "    #Etape 1 : initialisation de deux matrices de taille (n+1,m+1):\n",
    "    #n étant la taille de la séquence A et m la taille de la séquence B\n",
    "    #on dispose fictivement la séquence A en colonne et B en ligne\n",
    "    #M: avec en première ligne et première colonne le score entre une nucléotide et un gap\n",
    "    #T: avec un 'o' en T[0,0] et des 'l' en première ligne et 'u' en première colonne\n",
    "    n = len(A)\n",
    "    m = len(B)\n",
    "    M = np.empty([n+1, m+1], dtype=int)\n",
    "    T = np.empty([n+1, m+1], dtype=str)\n",
    "    lA = ['o']+['l']*n\n",
    "    lB = ['o']+['u']*m\n",
    "    for j in range(m+1) :\n",
    "        M[0, j] =  j * (-5)\n",
    "        T[0, j] = lB[j]\n",
    "    for i in range(n+1): \n",
    "        M[i, 0] = i * (-5)\n",
    "        T[i, 0] = lA[i]\n",
    "        \n",
    "    #Etape 2: On remplit la matrice de score pour tout i dans [1,n] et j dans [1,m] en suivant la loi :\n",
    "    # M[i,j] = max(M[i-1,j-1]+ similarity_matrix.score(A[i], B[j]), M[i, j-1]+ similarity_matrix.score(A[i],gap),   M[i-1,j]+ similarity_matrix.score(B[j], gap)\n",
    "    # Et on remplit T suivant cet algorithme :\n",
    "    #'d'  si M[i,j] a été calculé en utilisant la diagonale M[i-1,j-1],\n",
    "    #'l'  si M[i,j] a été calculé en utilisant la diagonale M[i,j-1],\n",
    "    #'u'  si M[i,j] a été calculé en utilisant la diagonale M[i-1,j]\n",
    "    \n",
    "    for i in range(1,n+1):\n",
    "        for j in range(1,m+1):\n",
    "            vald = M[i-1,j-1]+ similarity_matrix.score(A[i-1], B[j-1])\n",
    "            vall = M[i, j-1]+ similarity_matrix.score(A[i-1],\"-\")\n",
    "            valu =  M[i-1,j]+ similarity_matrix.score(B[j-1], \"-\")\n",
    "            M[i,j] = max(vald, vall, valu)\n",
    "            if M[i,j] == vald :\n",
    "                T[i,j] = 'd'\n",
    "            elif M[i,j] == vall :\n",
    "                T[i,j] = 'l'\n",
    "            elif M[i,j] == valu :\n",
    "                T[i,j] = 'u'\n",
    "            #print(M[i,j])\n",
    "            #print(vald)\n",
    "            #print(vall)\n",
    "            #print(valu)\n",
    "    \n",
    "    #Etape 3 : Obtention de l'alignement\n",
    "    #On démarre de la case T[n,m] jusqu à 'o'\n",
    "    #Si la case courante de T correspond à un :\n",
    "    # 'd': Les deux nucléotides de l'alignement sont identiques \n",
    "    # 'l' : Un gap dans la séquence A\n",
    "    # 'u': Un gap dans la séquence B\n",
    "    i = n\n",
    "    j = m\n",
    "    Al = []\n",
    "    Bl = []\n",
    "    while i>0 and j>0 :\n",
    "        if T[i,j] == 'd':\n",
    "            Al.append(A[i-1])\n",
    "            Bl.append(B[j-1])\n",
    "            i -= 1\n",
    "            j-= 1\n",
    "        elif T[i,j] == 'l':\n",
    "            Al.append('-')\n",
    "            Bl.append(B[j-1])\n",
    "            j -= 1\n",
    "        elif T[i,j] == 'u':\n",
    "            Al.append(A[i-1])\n",
    "            Bl.append('-')\n",
    "            i-=1\n",
    "    return ''.join(reversed(Al)), ''.join(reversed(Bl))\n",
    "        \n",
    "    \n",
    "A = 'ACTCCTGA'\n",
    "B = 'ATCTCGTGA'\n",
    "needWunch(A, B, similarity_matrix)"
   ]
  },
  {
   "cell_type": "markdown",
   "metadata": {},
   "source": [
    "----\n",
    "## Matrice de distance\n",
    "\n",
    "Dans le cas de séquences très proches, on estime que la distance évolutive réelle entre les séquences est proche de la p-distance qui est simplement le nombre de substitution dans l'alignement sur le nombre total de nucléotide. Pour simplifier, on ignore les positions alignées à des gaps. On applique ensuite la correction de Jukes-Cantor. Sa formule est $-(\\frac{3}{4})\\ln(1-(\\frac{4}{3})\\times \\textit{p-distance})$.\n",
    "\n",
    "**Exercice 4 :** Implémenter la fonction retournant la matrice de distance à partir d'un dictionnaire de séquences. "
   ]
  },
  {
   "cell_type": "code",
   "execution_count": 5,
   "metadata": {},
   "outputs": [],
   "source": [
    "# À remplir\n",
    "def jukes_cantor(p) :\n",
    "    return -(3/4)*np.log(1-(4/3)*p) \n",
    "\n",
    "def matrice_distance(dic) :\n",
    "    sequences = list(dic.values())\n",
    "    distance_matrix = np.zeros((len(sequences), len(sequences)))\n",
    "    for i in range(len(sequences)) :\n",
    "        for j in range (len(sequences)) :\n",
    "            score = 0\n",
    "            if i!=j :\n",
    "                align2, align1 = needWunch(sequences[j], sequences[i], similarity_matrix)\n",
    "                for k in range(len(align2)) :\n",
    "                    if (align2[k] != align1[k] and align2[k]!= \"-\" and align1[k]!=\"-\"):\n",
    "                        score+=1 \n",
    "                distance_matrix[i][j]= jukes_cantor(score/len(align2))\n",
    "    return distance_matrix"
   ]
  },
  {
   "cell_type": "code",
   "execution_count": 6,
   "metadata": {},
   "outputs": [
    {
     "name": "stdout",
     "output_type": "stream",
     "text": [
      "[[ 0.         -0.          0.2326162 ]\n",
      " [-0.          0.          0.57160504]\n",
      " [ 0.2326162   0.57160504  0.        ]]\n"
     ]
    }
   ],
   "source": [
    "dic = {\"un\": \"ACTGA\", \"deux\": \"TATCG\", \"trois\": \"CTGTT\"}\n",
    "print(matrice_distance(dic))"
   ]
  },
  {
   "cell_type": "markdown",
   "metadata": {},
   "source": [
    "**Exercice 4 bis :** À quoi sert la correction de Jukes-Cantor ? Quelle hypothèse fait-elle ? "
   ]
  },
  {
   "cell_type": "markdown",
   "metadata": {},
   "source": [
    "Réponse :"
   ]
  },
  {
   "cell_type": "markdown",
   "metadata": {},
   "source": [
    "------\n",
    "## Construction d'un arbre avec UPGMA\n",
    "\n",
    "Grâce aux mesures de distances entre les séquences, on peut maintenant de construire l'arbre phylogénétique des globines. Vous allez devoir pour cela implémenter l'algorithme UPGMA (*unweighted pair group method with arithmetic mean*) qui, malgré son nom compliqué, est l'une des méthodes les plus simples pour la construction d'arbre.\n",
    "\n",
    "### Le format Newick\n",
    "\n",
    "Le format Newick est l'un des formats utilisé en phylogénie pour représenter un arbre sous la forme d'une chaine de caractère. Le principe est simple, les groupes ayant la même racine sont écrit entre parenthèses et séparés par des virgules. Un groupe peut être soit une feuille de l'arbre (dans notre cas une séquence), soit un autre groupe. La longueur de la branche de chaque groupe est écrite après un double point et l'arbre est terminé par un point virgule. Pour afficher l'arbre on peut utiliser les fonction du package ETE : "
   ]
  },
  {
   "cell_type": "code",
   "execution_count": 49,
   "metadata": {},
   "outputs": [
    {
     "name": "stdout",
     "output_type": "stream",
     "text": [
      "Requirement already satisfied: ete3 in /opt/homebrew/Caskroom/miniforge/base/envs/env_numpy/lib/python3.11/site-packages (3.1.2)\n"
     ]
    }
   ],
   "source": [
    "!pip install ete3"
   ]
  },
  {
   "cell_type": "code",
   "execution_count": 50,
   "metadata": {},
   "outputs": [
    {
     "ename": "TypeError",
     "evalue": "arguments did not match any overloaded call:\n  QImage(): too many arguments\n  QImage(size: QSize, format: QImage.Format): argument 1 has unexpected type 'float'\n  QImage(width: int, height: int, format: QImage.Format): argument 1 has unexpected type 'float'\n  QImage(data: bytes, width: int, height: int, format: QImage.Format): argument 1 has unexpected type 'float'\n  QImage(data: PyQt5.sip.voidptr, width: int, height: int, format: QImage.Format): argument 1 has unexpected type 'float'\n  QImage(data: bytes, width: int, height: int, bytesPerLine: int, format: QImage.Format): argument 1 has unexpected type 'float'\n  QImage(data: PyQt5.sip.voidptr, width: int, height: int, bytesPerLine: int, format: QImage.Format): argument 1 has unexpected type 'float'\n  QImage(xpm: List[str]): argument 1 has unexpected type 'float'\n  QImage(fileName: str, format: typing.Optional[str] = None): argument 1 has unexpected type 'float'\n  QImage(a0: QImage): argument 1 has unexpected type 'float'\n  QImage(variant: Any): too many arguments",
     "output_type": "error",
     "traceback": [
      "\u001b[0;31m---------------------------------------------------------------------------\u001b[0m",
      "\u001b[0;31mTypeError\u001b[0m                                 Traceback (most recent call last)",
      "Cell \u001b[0;32mIn[50], line 7\u001b[0m\n\u001b[1;32m      5\u001b[0m ts \u001b[39m=\u001b[39m TreeStyle()\n\u001b[1;32m      6\u001b[0m ts\u001b[39m.\u001b[39mshow_branch_length \u001b[39m=\u001b[39m \u001b[39mTrue\u001b[39;00m\n\u001b[0;32m----> 7\u001b[0m t\u001b[39m.\u001b[39;49mrender(\u001b[39m'\u001b[39;49m\u001b[39m%%\u001b[39;49;00m\u001b[39minline\u001b[39;49m\u001b[39m'\u001b[39;49m, w\u001b[39m=\u001b[39;49m\u001b[39m183\u001b[39;49m, units\u001b[39m=\u001b[39;49m\u001b[39m'\u001b[39;49m\u001b[39mmm\u001b[39;49m\u001b[39m'\u001b[39;49m, tree_style\u001b[39m=\u001b[39;49mts)\n",
      "File \u001b[0;32m/opt/homebrew/Caskroom/miniforge/base/envs/env_numpy/lib/python3.11/site-packages/ete3/coretype/tree.py:1392\u001b[0m, in \u001b[0;36mTreeNode.render\u001b[0;34m(self, file_name, layout, w, h, tree_style, units, dpi)\u001b[0m\n\u001b[1;32m   1388\u001b[0m     \u001b[39mreturn\u001b[39;00m drawer\u001b[39m.\u001b[39mget_img(\u001b[39mself\u001b[39m, w\u001b[39m=\u001b[39mw, h\u001b[39m=\u001b[39mh,\n\u001b[1;32m   1389\u001b[0m                           layout\u001b[39m=\u001b[39mlayout, tree_style\u001b[39m=\u001b[39mtree_style,\n\u001b[1;32m   1390\u001b[0m                           units\u001b[39m=\u001b[39munits, dpi\u001b[39m=\u001b[39mdpi, return_format\u001b[39m=\u001b[39mfile_name)\n\u001b[1;32m   1391\u001b[0m \u001b[39melse\u001b[39;00m:\n\u001b[0;32m-> 1392\u001b[0m     \u001b[39mreturn\u001b[39;00m drawer\u001b[39m.\u001b[39;49mrender_tree(\u001b[39mself\u001b[39;49m, file_name, w\u001b[39m=\u001b[39;49mw, h\u001b[39m=\u001b[39;49mh,\n\u001b[1;32m   1393\u001b[0m                             layout\u001b[39m=\u001b[39;49mlayout, tree_style\u001b[39m=\u001b[39;49mtree_style,\n\u001b[1;32m   1394\u001b[0m                               units\u001b[39m=\u001b[39;49munits, dpi\u001b[39m=\u001b[39;49mdpi)\n",
      "File \u001b[0;32m/opt/homebrew/Caskroom/miniforge/base/envs/env_numpy/lib/python3.11/site-packages/ete3/treeview/drawer.py:111\u001b[0m, in \u001b[0;36mrender_tree\u001b[0;34m(t, imgName, w, h, layout, tree_style, header, units, dpi)\u001b[0m\n\u001b[1;32m    109\u001b[0m scene\u001b[39m.\u001b[39maddItem(scene\u001b[39m.\u001b[39mmaster_item)\n\u001b[1;32m    110\u001b[0m \u001b[39mif\u001b[39;00m imgName\u001b[39m.\u001b[39mstartswith(\u001b[39m\"\u001b[39m\u001b[39m%%\u001b[39;00m\u001b[39minline\u001b[39m\u001b[39m\"\u001b[39m):\n\u001b[0;32m--> 111\u001b[0m     imgmap \u001b[39m=\u001b[39m save(scene, imgName, w\u001b[39m=\u001b[39;49mw, h\u001b[39m=\u001b[39;49mh, units\u001b[39m=\u001b[39;49munits, dpi\u001b[39m=\u001b[39;49mdpi)\n\u001b[1;32m    112\u001b[0m \u001b[39melse\u001b[39;00m:\n\u001b[1;32m    113\u001b[0m     x_scale, y_scale \u001b[39m=\u001b[39m save(scene, imgName, w\u001b[39m=\u001b[39mw, h\u001b[39m=\u001b[39mh, units\u001b[39m=\u001b[39munits, dpi\u001b[39m=\u001b[39mdpi)\n",
      "File \u001b[0;32m/opt/homebrew/Caskroom/miniforge/base/envs/env_numpy/lib/python3.11/site-packages/ete3/treeview/main.py:752\u001b[0m, in \u001b[0;36msave\u001b[0;34m(scene, imgName, w, h, dpi, take_region, units)\u001b[0m\n\u001b[1;32m    750\u001b[0m \u001b[39melse\u001b[39;00m:\n\u001b[1;32m    751\u001b[0m     targetRect \u001b[39m=\u001b[39m QRectF(\u001b[39m0\u001b[39m, \u001b[39m0\u001b[39m, w, h)\n\u001b[0;32m--> 752\u001b[0m     ii\u001b[39m=\u001b[39m QImage(w, h, QImage\u001b[39m.\u001b[39;49mFormat_ARGB32)\n\u001b[1;32m    753\u001b[0m     ii\u001b[39m.\u001b[39mfill(QColor(Qt\u001b[39m.\u001b[39mwhite)\u001b[39m.\u001b[39mrgb())\n\u001b[1;32m    754\u001b[0m     ii\u001b[39m.\u001b[39msetDotsPerMeterX(dpi \u001b[39m/\u001b[39m \u001b[39m0.0254\u001b[39m) \u001b[39m# Convert inches to meters\u001b[39;00m\n",
      "\u001b[0;31mTypeError\u001b[0m: arguments did not match any overloaded call:\n  QImage(): too many arguments\n  QImage(size: QSize, format: QImage.Format): argument 1 has unexpected type 'float'\n  QImage(width: int, height: int, format: QImage.Format): argument 1 has unexpected type 'float'\n  QImage(data: bytes, width: int, height: int, format: QImage.Format): argument 1 has unexpected type 'float'\n  QImage(data: PyQt5.sip.voidptr, width: int, height: int, format: QImage.Format): argument 1 has unexpected type 'float'\n  QImage(data: bytes, width: int, height: int, bytesPerLine: int, format: QImage.Format): argument 1 has unexpected type 'float'\n  QImage(data: PyQt5.sip.voidptr, width: int, height: int, bytesPerLine: int, format: QImage.Format): argument 1 has unexpected type 'float'\n  QImage(xpm: List[str]): argument 1 has unexpected type 'float'\n  QImage(fileName: str, format: typing.Optional[str] = None): argument 1 has unexpected type 'float'\n  QImage(a0: QImage): argument 1 has unexpected type 'float'\n  QImage(variant: Any): too many arguments"
     ]
    }
   ],
   "source": [
    "from ete3 import Tree, TreeStyle\n",
    "\n",
    "newick_tree = '((A:2,(B:2,C:3):5):5,D:4);'\n",
    "t = Tree(newick_tree)\n",
    "ts = TreeStyle()\n",
    "ts.show_branch_length = True\n",
    "t.render('%%inline', w=183, units='mm', tree_style=ts)"
   ]
  },
  {
   "cell_type": "markdown",
   "metadata": {},
   "source": [
    "**Exercice 5 :** Reécrivez l'arbre suivant au format Newick puis afficher-le. Les nombres correspondent aux longueurs des branches :\n",
    "![](input/tree.png)"
   ]
  },
  {
   "cell_type": "code",
   "execution_count": 8,
   "metadata": {},
   "outputs": [],
   "source": [
    "# À remplir"
   ]
  },
  {
   "cell_type": "markdown",
   "metadata": {},
   "source": [
    "**Exercice 6 :** Expliquer la relation de parenté entre $A$, $B$ et $C$ ? Qu'elles sont les hypothèses qui pourraient expliquer ce type d'embranchement dans un arbre ? Donner une réponse détaillée."
   ]
  },
  {
   "cell_type": "markdown",
   "metadata": {},
   "source": [
    "Réponse : "
   ]
  },
  {
   "cell_type": "markdown",
   "metadata": {},
   "source": [
    "### UPGMA\n",
    "\n",
    "L'algorithme UPGMA se base sur la matrice de distance entre les séquences. À chaque itération, les séquences avec la distance la plus faible sont regroupées puis une nouvelle matrice de distance est calculée avec le nouveau groupe. Cette étape est répétée jusqu'à n'avoir plus qu'un seul groupe. Par exemple, avec la matrice de distance entre les séquences $A$, $B$, $C$ et $D$ suivante :\n",
    "\n",
    "|   &nbsp;   | A | B | C | D |\n",
    "|   -   | - | - | - | - |\n",
    "| **A** | &nbsp; | &nbsp; | &nbsp; | &nbsp; |\n",
    "| **B** | 4 | &nbsp; | &nbsp; | &nbsp; |\n",
    "| **C** | 8 | 8 | &nbsp; | &nbsp; |\n",
    "| **D** | 2 | 4 | 8 | &nbsp; |\n",
    "\n",
    "Les séquences $A$ et $D$ sont les plus proches ($distance(A,D)=2$). On les regroupe et on met à jour la matrice :\n",
    "\n",
    "|   &nbsp;   | (A, D) | B | C |\n",
    "|   -   | - | - | - |\n",
    "| **(A, D)** | &nbsp; | &nbsp; | &nbsp; |\n",
    "| **B** | 4 | &nbsp; | &nbsp; |\n",
    "| **C** | 8 | 8 | &nbsp; | &nbsp; |\n",
    "\n",
    "On regroupe maintenant $(A,D)$ et $B$ ($distance((A,D),B) = 4$) :\n",
    "\n",
    "|   &nbsp;   | ((A, D), B) | C |\n",
    "|   -   | - | - |\n",
    "| **((A, D), B)** | &nbsp; | &nbsp; |\n",
    "| **C** | 8 | &nbsp; |\n",
    "\n",
    "Important : les nouvelles distances sont calculées en moyennant les distances entre les membres du nouveau groupe et des groupes non modifiés pondéré par le nombre d'UTOs dans chaque groupe. Avec $i$ et $j$ les deux membres du groupe nouvellement formé et k les groupes restant : $d_{ij,k} = \\frac{n_id_{ik}}{n_i + n_j}+ \\frac{n_jd_{jk}}{n_i + n_j}$. Par exemple avec la distance entre $((A, D), B)$ et $C$:\n",
    "\n",
    "$distance(((A, D), B), C) = (distance((A, D), C)*2 + distance(B, C)) \\mathbin{/} 3 = (8*2 + 8) \\mathbin{/} 3 = 8 $.\n",
    "\n",
    "L'arbre final écrit dans le format Newick est : $((A, D), B), C);$ \n",
    "\n",
    "Et avec les distances : $((A:1, D:1):1, B:2):2, C:4);$ \n",
    "\n",
    "**Exercice 7 :** Implémenter une version d'UPGMA qui calcule l'arbre au format Newick **avec les distances** puis appliquer votre algorithme aux données. "
   ]
  },
  {
   "cell_type": "code",
   "execution_count": 122,
   "metadata": {},
   "outputs": [],
   "source": [
    "\n",
    "# À remplir\n",
    "\n",
    "def coord_triang(M,i,j):\n",
    "    if j<i :\n",
    "        return M[i][j]\n",
    "    else :\n",
    "        return M[j][i]\n",
    "    \n",
    "def id_from_label(labels, label):\n",
    "    for i in range(len(labels)):\n",
    "        if labels[i] == label :\n",
    "            return i\n",
    "        \n",
    "def cherche_min_idmin(M) :\n",
    "    dist_min = 10**5\n",
    "    for i in range(len(M)):\n",
    "            for j in range(len(M[i])):\n",
    "                if M[i][j] != 0 and dist_min > M[i][j] :\n",
    "                    dist_min = M[i][j]\n",
    "                    id_groupe = (i,j)\n",
    "    return dist_min, id_groupe\n",
    "\n",
    "\n",
    "    \n",
    "def UPGMA(M, labels):\n",
    "    \n",
    "    seq = \"\"\n",
    "    \n",
    "    \n",
    "    groupes = []\n",
    "    \n",
    "    id_labels = [i for i in range(len(labels))]\n",
    "    \n",
    "    last_dist = 0\n",
    "    \n",
    "    id_groupe = (-1,-1)\n",
    "    dist_min = 10**5\n",
    "    \n",
    "    \n",
    "    \n",
    "    while len(M)>=2 :\n",
    "        \n",
    "    \n",
    "        dist_min, id_groupe = cherche_min_idmin(M)\n",
    "        \n",
    "                    \n",
    "        idx, idy = id_groupe[0], id_groupe[1]\n",
    "        \n",
    "        if idx < idy :\n",
    "            id_groupe = idx, idy\n",
    "        else :\n",
    "            id_groupe = idy, idx\n",
    "            \n",
    "            \n",
    "        groupe = labels[id_groupe[0]],labels[id_groupe[1]]\n",
    "        groupes.append(groupe)\n",
    "        \n",
    "        \n",
    "        labels_new = labels.copy()\n",
    "        \n",
    "        labels_new.pop(id_groupe[0]) \n",
    "        labels_new.pop(id_groupe[1]-1)\n",
    "        labels_new.insert(0,groupe)\n",
    "        \n",
    "        \n",
    "        dict = {}\n",
    "        dict[groupe[0]] = dist_min /2\n",
    "        \n",
    "        seqaux = ''\n",
    "        \n",
    "        \n",
    "        if(len(groupe[0]) == 1) and len(groupe[1]) == 1:\n",
    "            seqaux += '(' + groupe[0] + ':' + str(int(dist_min /2)) + ')'\n",
    "            seqaux += ','\n",
    "            seqaux += '(' + groupe[1] + ':' + str(int(dist_min /2)) + ')'\n",
    "        else :\n",
    "            seqaux += ':' + str(int(dist_min/2)-int(last_dist/2))\n",
    "            seqaux += ','\n",
    "            seqaux += '(' + groupe[1] +':'+ str(int(dist_min/2)) +')'\n",
    "            \n",
    "        seq +=  seqaux \n",
    "            \n",
    "        last_dist = dist_min\n",
    "        \n",
    "    \n",
    "        id_labels_new = id_labels.copy()\n",
    "        \n",
    "        id_labels_new.pop(id_groupe[0]) \n",
    "        id_labels_new.pop(id_groupe[1]-1)\n",
    "        id_labels_new.insert(0,id_groupe)\n",
    "        \n",
    "        \n",
    "        Mnew = [[]]\n",
    "        \n",
    "        dist_pondere = []\n",
    "        \n",
    "        for k in id_labels_new[1:] :\n",
    "                i = id_groupe[0]\n",
    "                j = id_groupe[1]\n",
    "                labi = labels[i]\n",
    "                labj = labels[j]\n",
    "                ni = len(labi)\n",
    "                nj = len(labj)\n",
    "                dik = coord_triang(M,i,k)\n",
    "                djk = coord_triang(M, j, k)\n",
    "                dist_pondere.append( ((ni * dik)+(nj * djk))/(ni + nj) )\n",
    "                \n",
    "                \n",
    "        for x in range(1,len(M)-1):\n",
    "            l = []\n",
    "            l.append(dist_pondere[x-1])\n",
    "            for y in range(1,x):\n",
    "                if x > y :\n",
    "                    l.append(coord_triang(M,id_labels[x], id_labels[y]))\n",
    "            Mnew .append(l)\n",
    "            \n",
    "        \n",
    "                \n",
    "        M = Mnew\n",
    "        labels = labels_new\n",
    "        id_labels = id_labels_new\n",
    "        \n",
    "    print(seq)\n",
    "        \n",
    "    "
   ]
  },
  {
   "cell_type": "code",
   "execution_count": 119,
   "metadata": {},
   "outputs": [],
   "source": [
    "dic_seq = {\"Sabertooth\": \"CTAATTAAAATTATCAACCACTCATTCATTGATTTACCCACCCCATCCAACATTTCAGCATGATGAAACTTCGGCTCCTTATTAGGAGTGTGCTTAATCTTACAAATCCTCACTGGCTTATTTCTAGCCATACATTATACACCAGATACAACAACCGCCTTCTCATCAGTTACCCACATTTGCCGTGATGTTAATTACGGCTGAATTATCCGATATATACACGCCAATGGAGCTTCCATATTCTTCATCTGCCTATATATACATGTAGGTCGAGCATATACTAC\", \"Homotherium\": \"CTAATTAAAATCATCAACCAATCATTCATTGACTTACCTACCCCCTCCAACATCTCAGCATGATGAAACTTCGGATCCCTACTAGGCATTTGCCTAATTCTTCAAATCCTCACAGGCTTATTCCTAGCCATACACTACACATCAGACACAACAACTGCTTTCTCATCAATCGCCCATATTTGCCGTGACGTAAATTATGGTTGAATTATCCGATATATACACGCCAATGGAGCCTCTATATTCTTCATCTGTCTATACCTACATGTAGCTCGAGAATTTATTAC\", \"American\": \"CTTATTAAAATCATTAATCACTCATTCATTGATCTACCCACCCCATCCAACATTTCAGCATGATGAAACTTCGGTTCCCTACTAGGGGTCTGCCTAATCCTACAAATCCTAACCGGCCTCTTCCTGGCTATACACTACACATCAGACACAATAACCGCCTTTTCATCAGTTACTCACATCTGTCGTGACGTCAATTACGGCTGAATTATTCGGTATATACACGCCAACGGAGCCTCCATATTCTTTATCTGCCTATACATGCACGTAGGGCGAGAATATATTAC\", \"Spotted\": \"CTCATTAAAATTATCAACAAATCATTCATTGACCTCCCCACCCCATCCAACATCTCGGCATGGTGAAATTTCGGGTCACTATTAGGAATCTGCTTAATCTTACAAATCCTGACAGGTCTATTCCTAGCCATACACTACACATCAGACACAACAACCGCCTTCTCATCAGTGACCCACATCTGCCGAGACGTAAACTACGGCTGAATCATCCGATACATACACGCCAACGGAGCTTCCATATTCTTCATCTGTCTATATATACATATCGGCCGAGAATATACTAC\", \"Striped\": \"CTCATTAAAATTGTCAACGAATCATTCATCGATCTCCCCACCCCATCCAACATCTCAGCATGATGAAACTTCGGATCGCTATTAGGAATCTGCCTAATCTTACAGATTCTGACAGGCCTATTTCTAGCCATACACTACACATCAGACACAACAACCGCCTTTTCATCAGTAACACACATCTGCCGAGACGTCAACTATGGCTGAATTATCCGATATATGCACGCCAACGGGGCCTCCATGTTTTTCATCTGCCTGTTCATGCACGCCGGCCGAGAATGTACTAC\", \"Chinese\": \"CTTATTAAAATCATCAACCATTCATTCATTGACCTACCCACCCCATCCAACATCTCAGCATGATGAAATTTCGGCTCCCTATTAGGAGTCTGCCTAATCTTACAAATTCTCACCGGCCTCTTTCTAGCCATACACTACACATCAGACACAGTAACCGCTTTTTCATCAGTTACTCACATCTGTCGCGATGTTAATTACGGCTGAATCATCCGATACATACACGCCAATGGAGCTTCCATATTCTTTATCTGCCTATACATGCACGTAGGACGAGAATATATTAC\", \"African\": \"CTTATCAAAATTATTAATCACTCATTCATCGATCTACCCGCCCCATCTAACATCTCAGCATGATGAAACTTCGGCTCCCTTCTAGGAGTCTGCCTAATCTTACAAATCCTCACCGGCCTCTTTTTGGCCATACACTACACATCAGACACAATAACCGCCTTTTCATCAGTTACCCACATCTGTCGCGACGTTAATTATGGCTGAATCATCCGATATTTACACGCCAACGGAGCTTCTATATTCTTTATCTGCCTGTACATACACGTAGGACGGGAATATACTAC\", \"Felis\": \"CTTACCAAAATTATTAATCACTCATTCATCGACCTACCTGCCCCATCTAACATCTCAGCATGATGAAACTTCGGCTCCCTTCTAGGAGTCTGCCTAATCTTACAAATCCTCACCGGCCTCTTTTTGGCCATACACTACACATCAGACACAACAACCGCCTTTTCATCAGTTACCCACATCTGTCGCGACGTTAATTATGGCTGAATCATCCGATATTTACACGCCAACGGAGCTTCTATATTCTTTATCTGCCTGTACATACATGTAGGACGGGAATATACTAC\", \"Wild\": \"CTTATCAAAATTATTAATCACTCATTCATCGACCTACCCGCCCCATCTAACATCTCAGCATGATGAAACTTCGGCTCCCTTCTAGGAGTCTGCCTAATCTTACAAATCCTCACCGGCCTCTTTTTGGCCATACACTACACATCAGACACAATAACCGCCTTTTCATCAGTTACCCACATCTGTCGCGACGTTAATTATGGCTGAATCATCCGATATTTACACGCCAACGGAGCTTCTATATTCTTTATCTGCCTGTACATACATGTGGGACGGGAATATACTAC\", \"Cheetah\": \"CTTATCAAAATCGTTAATCACTCATTCATCGATTTACCCACCCCACCTAACATTTCAGCATGATGAAACTTCGGCTCCCTACTAGGAGTCTGCCTAGTCCTACAGATCCTAACCGGCCTTTTCCTAGCCATACACTACACATCAGACACAATAACCGCCTTTTCATCAGTTACTCACATCTGCCGCGACGTCAACTACGGCTGAATTATTCGATACATGCACGCCAACGGAGCCTCTATATTCTTTATCTGCCTATACATGCATGTAGGACGAGAATATACTAC\", \"Puma\": \"CTTATCAAAATCATTAATCACTCATTTATTGATTTACCCACCCCATCCAACATTTCAGCATGATGAAACTTTGGCTCCCTACTAGGGGTCTGCCTAATCCTACAAATCCTAACCGGCCTCTTCCTGGCCATACACTATACATCAGACACAATGACTGCCTTTTCATCAGTCACTCACATCTGTCGTGACGTTAACTACGGCTGAATTATTCGGTACATACATGCCAACGGAGCCTCCATATTCTTTATCTGCCTATACATGCACGTGGGACGAGAATATATTAT\", \"Tiger\": \"CTTATCAAAATTATTAATCACTCATTTATTGACCTACCCGCCCCATCCAATATTTCAGCATGATGAAACTTTGGCTCCTTACTAGGGGTGTGCTTAATCTTACAAATCCTCACTGGCCTCTTTCTAGCCATACACTACACATCAGACACAATAACCGCATTCTCATCAGTTACCCACATTTGCCGCGACGTAAACTACGGCTGGATTATCCGATATCTACATGCCAACGGAGCCTCCATATTCTTTATCTGTCTATACATGCACGTAGGACGAGAATATACTAC\", \"Lion\": \"CTTGTCAAAATTATTAATCACTCATTCATTGATCTTCCCACTCCACCCAATATCTCAGCATGATGAAACTTTGGCTCCTTATTAGGAGTATGTTTAATCCTACAAATTCTCACCGGCCTCTTTCTAGCCATACATTACACACCAGACACAATAACCGCTTTCTCATCAGTCACCCACATTTGCCGCGATGTAAACTATGGCTGAATTATCCGGTACCTACACGCCAACGGAGCCTCCATATTCTTTATCTGCCTATACATGCATGTAGGACGAGAATATACTAT\", \"Leopard\": \"CTCATCAAAATTATTAATCACTCATTCATTGATCTCCCCGCTCCATCCAACATCTCAACATGATGGAACTTTGGCTCCCTATTAGGGGTATGTTTAATCCTACAAATTCTCACCGGCCTCTTTCTAGCCATACATTATACATCAGACACAACAACCGCTTTCTCATCAGTTACCCATATCTGCCGCGATGTAAATTATGGCTGAATTATCCGGTATCTACACGCCAATGGAGCCTCCATATTCTTTATCTGCCTATACATACATGTAGGACGAGGATATACTAT\", \"Dog\": \"CTAGCCAAAATTGTTAATAACTCATTCATTGACCTCCCAGCGCCGTCTAACATCTCTGCTTGATGGAACTTCGGATCCTTACTAGGAGTATGCTTGATTCTACAGATTCTAACAGGTTTATTCTTAGCTATGCACTATACATCGGACACAGCCACAGCTTTTTCATCAGTCACCCACATCTGCCGAGACGTTAACTACGGCTGAATTATCCGCTATATGCACGCAAATGGCGCTTCCATATTCTTTATCTGCCTATTCCTACATGTAGGACGAGCCTATATTAC\", \"Wolf\": \"CTAGCCAAAATTGTTAATAACTCATTCATTGACCTCCCAGCGCCGTCTAACATCTCTGCTTGATGGAACTTCGGATCCTTACTAGGAGTATGCTTGATTCTACAGATTCTAACAGGTTTATTCTTAGCTATGCACTATACATCGGACACAGCCACAGCTTTTTCATCAGTCACCCACATCTGCCGAGACGTTAACTACGGCTGAATTATCCGCTATATGCACGCAAATGGCGCTTCCATATTCTTTATCTGCCTATTCCTACATGTAGGACGAGCCTATATTAC\", \"Black\": \"TTAGCTAAAATCATCAACAACTCACTCATTGATCTCCCAGCACCATCAAATATCTCAGCATGATGAAACTTCGGGTCCCTCCTCGGAGTATGTTTAGTACTACAAATTCTAACGGGCCTATTCCTAGCTATACACTATACATCAGACACAACTACAGCCTTTTCATCAATCACCCATATTTGCCGAGATGTTCACTACGGATGAATTATCCGATACATACATGCTAACGGAGCTTCCATATTCTTTATCTGCCTGTTCATGCACGTAGGACGGGTCTGTACTAT\", \"Brown\": \"TTAGCTAAAATCATCAACAACTCATTTATTGACCTTCCAACACCATCAAACATCTCAGCATGATGAAACTTTGGATCCCTCCTTGGAGTATGTTTAATTCTACAGATTCTAACAGGCCTGTTCCTAGCCATACACTATACACCAGACACAACCACAGCTTTTTCATCGGTCACCCACATTTGCCGAGACGTTCACTACGGGTGAGTTATCCGATATGTACATGCAAATGGAGCCTCCATCTTCTTTATCTGCCTATTTATGCACTAGGACGGGGCCTGTACTAT\", \"Cave\": \"TTAGCTAAAATCATCAACAACTCATTTATTGACCTCCCAACACCATCAAACATCTCAGCATGATGAAACTTTGGATCCCTCCTCGGAGTATGCTTAATTCTACAGATCCTAACAGGCCTGTTTCTAGCTATACACTACACATCAGACACAACCACAGCCTTTTCATCAATCACCCATATTTGCCGAGACGTTCACTACGGTTGAGTTATCCGATATATACATGCAAACGGAGCCTCCATATTCTTTATCTGTCTATTCATGCACTAGGACGGGGCCTATACTAT\"}"
   ]
  },
  {
   "cell_type": "code",
   "execution_count": 125,
   "metadata": {},
   "outputs": [
    {
     "name": "stdout",
     "output_type": "stream",
     "text": [
      "(A:1),(D:1):1,(B:2):2,(C:4)\n"
     ]
    },
    {
     "ename": "",
     "evalue": "",
     "output_type": "error",
     "traceback": [
      "\u001b[1;31mLe Kernel s’est bloqué lors de l’exécution du code dans la cellule active ou une cellule précédente. Veuillez vérifier le code dans la ou les cellules pour identifier une cause possible de l’échec. Cliquez <a href='https://aka.ms/vscodeJupyterKernelCrash'>ici</a> pour plus d’informations. Pour plus d’informations, consultez Jupyter <a href='command:jupyter.viewOutput'>log</a>."
     ]
    }
   ],
   "source": [
    "matrice =[\n",
    "        [0,4,8,2],\n",
    "        [4,0,8,4],\n",
    "        [8,8,0,8],\n",
    "        [2,4,8,0]\n",
    "]\n",
    "\n",
    "labels = ['A', 'B', 'C', 'D']\n",
    "matrice_labels = list(dic_seq.keys())\n",
    "#matrice_all = matrice_distance(dic_seq)\n",
    "UPGMA(matrice, labels)"
   ]
  },
  {
   "cell_type": "markdown",
   "metadata": {},
   "source": [
    "**Exercice 8 :** Quelles sont les hypothèses faites par UPGMA ? Semblent-elles respectées dans le cas présent ?"
   ]
  },
  {
   "cell_type": "markdown",
   "metadata": {},
   "source": [
    "Réponse : "
   ]
  },
  {
   "cell_type": "markdown",
   "metadata": {},
   "source": [
    "----\n",
    "## Enracinement de l'arbre\n",
    "\n",
    "Après avoir utilisé UPGMA pour réaliser votre arbre, l'enracinement s'est normalement fait au poids moyen. \n",
    "\n",
    "**Exercice 9 :** Quelle autre méthode est-il possible d'utiliser pour enraciner un arbre ? Pouvez-vous l'utilisez ici ? Si oui, afficher le nouvel arbre."
   ]
  },
  {
   "cell_type": "markdown",
   "metadata": {},
   "source": [
    "**Réponse :** "
   ]
  },
  {
   "cell_type": "markdown",
   "metadata": {},
   "source": [
    "----\n",
    "## Neighbor-joining\n",
    "\n",
    "Le neighbor-joining est un autre algorithme permettant de calculer un arbre phylogénique à partir d'une matrice de distance. Il a l'avantage de faire moins d'hypothèse qu'UPGMA sur les données (elles ne sont plus forcément ultramétrique) et il donne donc de meilleurs arbres dans presque tout les cas. Vous trouverez un example d'application de cet algorithme [ici](http://www.evolution-textbook.org/content/free/tables/Ch_27/T11_EVOW_Ch27.pdf).\n",
    "\n",
    "**Exercice 10 :** Implémenter l'algorithme du neighbor-joining, appliquer-le aux données puis enraciner l'arbre."
   ]
  },
  {
   "cell_type": "code",
   "execution_count": null,
   "metadata": {},
   "outputs": [],
   "source": [
    "# À remplir\n",
    "def neighbor_joining(M):\n",
    "    "
   ]
  },
  {
   "cell_type": "markdown",
   "metadata": {},
   "source": [
    "----\n",
    "## Bootstrap\n",
    "\n",
    "Le bootstrap est une méthode permettant de calculer la robustesse des branches d'un arbre. Il sagit de recréer un jeu de données artificiel en tirant n positions dans l'alignement des séquences avec remise, n étant la longueur de l'alignement. On recréer un arbre à partir de ces nouvelles données puis on le compare avec l'arbre obtenu avec les données réelles. Si une branche de l'arbre réelle est présente dans l'arbre artificiel, son bootstrap augmente de 1. On répètera la procédure 100 fois afin d'avoir un score sur 100 pour chaque branche.\n",
    "\n",
    "**Exercice 11 :** Calculer le bootstrap des branches des arbres obtenus avec UPGMA et neighbor-joining."
   ]
  },
  {
   "cell_type": "code",
   "execution_count": null,
   "metadata": {},
   "outputs": [],
   "source": [
    "# À remplir"
   ]
  },
  {
   "cell_type": "markdown",
   "metadata": {},
   "source": [
    "----\n",
    "## Conclusion\n",
    "\n",
    "**Exercice 12 :** Quelles sont vos conclusions par rapport à l'arbre phylogénique de _smilodon_, _homotherium_ et _M. trumani_ ? Comparer les deux méthodes. Comment expliquer les caractéristiques morphologiques similaires entre ces trois espèces ? Une réponse détaillée est attendue."
   ]
  },
  {
   "cell_type": "markdown",
   "metadata": {
    "collapsed": true
   },
   "source": [
    "Réponse :"
   ]
  }
 ],
 "metadata": {
  "kernelspec": {
   "display_name": "env_numpy",
   "language": "python",
   "name": "python3"
  },
  "language_info": {
   "codemirror_mode": {
    "name": "ipython",
    "version": 3
   },
   "file_extension": ".py",
   "mimetype": "text/x-python",
   "name": "python",
   "nbconvert_exporter": "python",
   "pygments_lexer": "ipython3",
   "version": "3.11.0"
  },
  "vscode": {
   "interpreter": {
    "hash": "c59bb278b3486516648dafe5275ecbcd12b45fefe6c84961b41c3a78c850abd2"
   }
  }
 },
 "nbformat": 4,
 "nbformat_minor": 2
}
